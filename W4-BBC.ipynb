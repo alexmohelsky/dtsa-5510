{
 "cells": [
  {
   "cell_type": "code",
   "execution_count": 16,
   "metadata": {},
   "outputs": [
    {
     "name": "stdout",
     "output_type": "stream",
     "text": [
      "./data/bbc/BBC News Train.csv\n",
      "./data/bbc/BBC News Test.csv\n",
      "./data/bbc/BBC News Sample Solution.csv\n",
      "./data/bbc/learn-ai-bbc.zip\n"
     ]
    },
    {
     "name": "stderr",
     "output_type": "stream",
     "text": [
      "[nltk_data] Downloading package stopwords to\n",
      "[nltk_data]     /home/alexmohelsky/nltk_data...\n",
      "[nltk_data]   Package stopwords is already up-to-date!\n",
      "[nltk_data] Downloading package punkt to\n",
      "[nltk_data]     /home/alexmohelsky/nltk_data...\n",
      "[nltk_data]   Package punkt is already up-to-date!\n"
     ]
    }
   ],
   "source": [
    "# This Python 3 environment comes with many helpful analytics libraries installed\n",
    "# It is defined by the kaggle/python Docker image: https://github.com/kaggle/docker-python\n",
    "# For example, here's several helpful packages to load\n",
    "\n",
    "import numpy as np # linear algebra\n",
    "import pandas as pd # data processing, CSV file I/O (e.g. pd.read_csv)\n",
    "import io\n",
    "import nltk\n",
    "from nltk.corpus import stopwords\n",
    "from nltk.tokenize import word_tokenize\n",
    "\n",
    "\n",
    "from sklearn.feature_extraction.text import TfidfVectorizer, CountVectorizer\n",
    "from sklearn.decomposition import NMF\n",
    "from sklearn.metrics import accuracy_score\n",
    "import sklearn.metrics as metrics\n",
    "import itertools\n",
    "from sklearn.cluster import KMeans\n",
    "from sklearn.model_selection import train_test_split\n",
    "from sklearn.pipeline import Pipeline\n",
    "#from sklearn.metrics import classification_report\n",
    "#from sklearn.metrics import accuracy_score\n",
    "#from sklearn.tree import DecisionTreeClassifier\n",
    "from sklearn.ensemble import RandomForestClassifier\n",
    "\n",
    "import matplotlib.pyplot as plt\n",
    "import seaborn as sn\n",
    "import re\n",
    "import warnings\n",
    "warnings.filterwarnings('ignore')\n",
    "%matplotlib inline\n",
    "pd.set_option('display.max_colwidth',200)\n",
    "\n",
    "nltk.download('stopwords')\n",
    "nltk.download('punkt')\n",
    "\n",
    "# Input data files are available in the read-only \"../input/\" directory\n",
    "# For example, running this (by clicking run or pressing Shift+Enter) will list all files under the input directory\n",
    "\n",
    "import os\n",
    "for dirname, _, filenames in os.walk('./data/bbc'):\n",
    "    for filename in filenames:\n",
    "        print(os.path.join(dirname, filename))\n",
    "\n",
    "# You can write up to 20GB to the current directory (/kaggle/working/) that gets preserved as output when you create a version using \"Save & Run All\" \n",
    "# You can also write temporary files to /kaggle/temp/, but they won't be saved outside of the current session"
   ]
  },
  {
   "cell_type": "code",
   "execution_count": 3,
   "metadata": {},
   "outputs": [],
   "source": [
    "# helper function to clean up text so that machine learning algo can work better on it\n",
    "# for example, removing very commmon words that don't give much extra value, i.e. stopwords containing things \n",
    "# like 'the'\n",
    "# isolate and remove punctionations\n",
    "# standardize contractions like 'can't' to 'can not'\n",
    "# remove special characters\n",
    "\n",
    "def preprocess_text_col(df, col) :\n",
    "    new_text = []\n",
    "    english_stopwords = set(stopwords.words('english'))\n",
    "    for (offset,line) in enumerate(df[col]):\n",
    "        \n",
    "        line = line.lower()\n",
    "        # Change 't to 'not'\n",
    "        line = re.sub(r\"\\'t\", \" not\", line)\n",
    "        # Remove @name\n",
    "        line = re.sub(r'(@.*?)[\\s]', ' ', line)\n",
    "        # Isolate and remove punctuations except '?'\n",
    "        line = re.sub(r'([\\'\\\"\\.\\(\\)\\!\\?\\\\\\/\\,])', r' \\1 ', line)\n",
    "        line = re.sub(r'[^\\w\\s\\?]', ' ', line)\n",
    "        # Remove some special characters\n",
    "        line = re.sub(r'([\\;\\:\\|•«\\n])', ' ', line)\n",
    "    \n",
    "        tokens = nltk.word_tokenize(line)\n",
    "        filtered =[]\n",
    "\n",
    "\n",
    "        for word in tokens:\n",
    "            if not word.lower() in english_stopwords:\n",
    "                filtered.append(word)\n",
    "\n",
    "        new_text.append(' '.join(filtered))\n",
    "\n",
    "    return new_text"
   ]
  },
  {
   "cell_type": "markdown",
   "metadata": {},
   "source": [
    "## 1.  Exploratory Data Analysis\n",
    "\n",
    "The 'BBC News Train.csv' file has an ArticleID column, a Text column that contains text, and Category column that contains the type of new collumn which is the target variable we are trying to predict.\n",
    "\n",
    " It is typical to perform preprocessing on text to remove stopwords from text that is being used for model training. Stopwords are common words that do not convey much information such as 'the'. It is also common to remove punction, special characters, and to standardize contractions. The text in the Text column is shown before the preprocessing and after the preprocessing.\n",
    "\n",
    " There are 5 Category values: Business, Tech, Politics, Sport, and Entertainment. The histogram to display the number of each value shows that these classes are fairly balanced which is a good thing, i.e. no need to try to balance the classes."
   ]
  },
  {
   "cell_type": "markdown",
   "metadata": {},
   "source": []
  },
  {
   "cell_type": "code",
   "execution_count": 4,
   "metadata": {},
   "outputs": [
    {
     "name": "stdout",
     "output_type": "stream",
     "text": [
      "<class 'pandas.core.frame.DataFrame'>\n",
      "RangeIndex: 1490 entries, 0 to 1489\n",
      "Data columns (total 3 columns):\n",
      " #   Column     Non-Null Count  Dtype \n",
      "---  ------     --------------  ----- \n",
      " 0   ArticleId  1490 non-null   int64 \n",
      " 1   Text       1490 non-null   object\n",
      " 2   Category   1490 non-null   object\n",
      "dtypes: int64(1), object(2)\n",
      "memory usage: 35.0+ KB\n"
     ]
    },
    {
     "data": {
      "text/html": [
       "<div>\n",
       "<style scoped>\n",
       "    .dataframe tbody tr th:only-of-type {\n",
       "        vertical-align: middle;\n",
       "    }\n",
       "\n",
       "    .dataframe tbody tr th {\n",
       "        vertical-align: top;\n",
       "    }\n",
       "\n",
       "    .dataframe thead th {\n",
       "        text-align: right;\n",
       "    }\n",
       "</style>\n",
       "<table border=\"1\" class=\"dataframe\">\n",
       "  <thead>\n",
       "    <tr style=\"text-align: right;\">\n",
       "      <th></th>\n",
       "      <th>ArticleId</th>\n",
       "      <th>Text</th>\n",
       "      <th>Category</th>\n",
       "    </tr>\n",
       "  </thead>\n",
       "  <tbody>\n",
       "    <tr>\n",
       "      <th>0</th>\n",
       "      <td>1833</td>\n",
       "      <td>worldcom ex-boss launches defence lawyers defending former worldcom chief bernie ebbers against a battery of fraud charges have called a company whistleblower as their first witness.  cynthia coop...</td>\n",
       "      <td>business</td>\n",
       "    </tr>\n",
       "    <tr>\n",
       "      <th>1</th>\n",
       "      <td>154</td>\n",
       "      <td>german business confidence slides german business confidence fell in february knocking hopes of a speedy recovery in europe s largest economy.  munich-based research institute ifo said that its co...</td>\n",
       "      <td>business</td>\n",
       "    </tr>\n",
       "    <tr>\n",
       "      <th>2</th>\n",
       "      <td>1101</td>\n",
       "      <td>bbc poll indicates economic gloom citizens in a majority of nations surveyed in a bbc world service poll believe the world economy is worsening.  most respondents also said their national economy ...</td>\n",
       "      <td>business</td>\n",
       "    </tr>\n",
       "    <tr>\n",
       "      <th>3</th>\n",
       "      <td>1976</td>\n",
       "      <td>lifestyle  governs mobile choice  faster  better or funkier hardware alone is not going to help phone firms sell more handsets  research suggests.  instead  phone firms keen to get more out of the...</td>\n",
       "      <td>tech</td>\n",
       "    </tr>\n",
       "    <tr>\n",
       "      <th>4</th>\n",
       "      <td>917</td>\n",
       "      <td>enron bosses in $168m payout eighteen former enron directors have agreed a $168m (£89m) settlement deal in a shareholder lawsuit over the collapse of the energy firm.  leading plaintiff  the unive...</td>\n",
       "      <td>business</td>\n",
       "    </tr>\n",
       "  </tbody>\n",
       "</table>\n",
       "</div>"
      ],
      "text/plain": [
       "   ArticleId  \\\n",
       "0       1833   \n",
       "1        154   \n",
       "2       1101   \n",
       "3       1976   \n",
       "4        917   \n",
       "\n",
       "                                                                                                                                                                                                      Text  \\\n",
       "0  worldcom ex-boss launches defence lawyers defending former worldcom chief bernie ebbers against a battery of fraud charges have called a company whistleblower as their first witness.  cynthia coop...   \n",
       "1  german business confidence slides german business confidence fell in february knocking hopes of a speedy recovery in europe s largest economy.  munich-based research institute ifo said that its co...   \n",
       "2  bbc poll indicates economic gloom citizens in a majority of nations surveyed in a bbc world service poll believe the world economy is worsening.  most respondents also said their national economy ...   \n",
       "3  lifestyle  governs mobile choice  faster  better or funkier hardware alone is not going to help phone firms sell more handsets  research suggests.  instead  phone firms keen to get more out of the...   \n",
       "4  enron bosses in $168m payout eighteen former enron directors have agreed a $168m (£89m) settlement deal in a shareholder lawsuit over the collapse of the energy firm.  leading plaintiff  the unive...   \n",
       "\n",
       "   Category  \n",
       "0  business  \n",
       "1  business  \n",
       "2  business  \n",
       "3      tech  \n",
       "4  business  "
      ]
     },
     "execution_count": 4,
     "metadata": {},
     "output_type": "execute_result"
    }
   ],
   "source": [
    "df = pd.read_csv('./data/bbc/BBC News Train.csv')\n",
    "df.info()\n",
    "df.head()"
   ]
  },
  {
   "cell_type": "code",
   "execution_count": 5,
   "metadata": {},
   "outputs": [
    {
     "data": {
      "text/html": [
       "<div>\n",
       "<style scoped>\n",
       "    .dataframe tbody tr th:only-of-type {\n",
       "        vertical-align: middle;\n",
       "    }\n",
       "\n",
       "    .dataframe tbody tr th {\n",
       "        vertical-align: top;\n",
       "    }\n",
       "\n",
       "    .dataframe thead th {\n",
       "        text-align: right;\n",
       "    }\n",
       "</style>\n",
       "<table border=\"1\" class=\"dataframe\">\n",
       "  <thead>\n",
       "    <tr style=\"text-align: right;\">\n",
       "      <th></th>\n",
       "      <th>ArticleId</th>\n",
       "      <th>Text</th>\n",
       "      <th>Category</th>\n",
       "      <th>preproc_text</th>\n",
       "    </tr>\n",
       "  </thead>\n",
       "  <tbody>\n",
       "    <tr>\n",
       "      <th>0</th>\n",
       "      <td>1833</td>\n",
       "      <td>worldcom ex-boss launches defence lawyers defending former worldcom chief bernie ebbers against a battery of fraud charges have called a company whistleblower as their first witness.  cynthia coop...</td>\n",
       "      <td>business</td>\n",
       "      <td>worldcom ex boss launches defence lawyers defending former worldcom chief bernie ebbers battery fraud charges called company whistleblower first witness cynthia cooper worldcom ex head internal ac...</td>\n",
       "    </tr>\n",
       "    <tr>\n",
       "      <th>1</th>\n",
       "      <td>154</td>\n",
       "      <td>german business confidence slides german business confidence fell in february knocking hopes of a speedy recovery in europe s largest economy.  munich-based research institute ifo said that its co...</td>\n",
       "      <td>business</td>\n",
       "      <td>german business confidence slides german business confidence fell february knocking hopes speedy recovery europe largest economy munich based research institute ifo said confidence index fell 95 5...</td>\n",
       "    </tr>\n",
       "    <tr>\n",
       "      <th>2</th>\n",
       "      <td>1101</td>\n",
       "      <td>bbc poll indicates economic gloom citizens in a majority of nations surveyed in a bbc world service poll believe the world economy is worsening.  most respondents also said their national economy ...</td>\n",
       "      <td>business</td>\n",
       "      <td>bbc poll indicates economic gloom citizens majority nations surveyed bbc world service poll believe world economy worsening respondents also said national economy getting worse asked family financ...</td>\n",
       "    </tr>\n",
       "    <tr>\n",
       "      <th>3</th>\n",
       "      <td>1976</td>\n",
       "      <td>lifestyle  governs mobile choice  faster  better or funkier hardware alone is not going to help phone firms sell more handsets  research suggests.  instead  phone firms keen to get more out of the...</td>\n",
       "      <td>tech</td>\n",
       "      <td>lifestyle governs mobile choice faster better funkier hardware alone going help phone firms sell handsets research suggests instead phone firms keen get customers pushing technology sake consumers...</td>\n",
       "    </tr>\n",
       "    <tr>\n",
       "      <th>4</th>\n",
       "      <td>917</td>\n",
       "      <td>enron bosses in $168m payout eighteen former enron directors have agreed a $168m (£89m) settlement deal in a shareholder lawsuit over the collapse of the energy firm.  leading plaintiff  the unive...</td>\n",
       "      <td>business</td>\n",
       "      <td>enron bosses 168m payout eighteen former enron directors agreed 168m 89m settlement deal shareholder lawsuit collapse energy firm leading plaintiff university california announced news adding 10 f...</td>\n",
       "    </tr>\n",
       "  </tbody>\n",
       "</table>\n",
       "</div>"
      ],
      "text/plain": [
       "   ArticleId  \\\n",
       "0       1833   \n",
       "1        154   \n",
       "2       1101   \n",
       "3       1976   \n",
       "4        917   \n",
       "\n",
       "                                                                                                                                                                                                      Text  \\\n",
       "0  worldcom ex-boss launches defence lawyers defending former worldcom chief bernie ebbers against a battery of fraud charges have called a company whistleblower as their first witness.  cynthia coop...   \n",
       "1  german business confidence slides german business confidence fell in february knocking hopes of a speedy recovery in europe s largest economy.  munich-based research institute ifo said that its co...   \n",
       "2  bbc poll indicates economic gloom citizens in a majority of nations surveyed in a bbc world service poll believe the world economy is worsening.  most respondents also said their national economy ...   \n",
       "3  lifestyle  governs mobile choice  faster  better or funkier hardware alone is not going to help phone firms sell more handsets  research suggests.  instead  phone firms keen to get more out of the...   \n",
       "4  enron bosses in $168m payout eighteen former enron directors have agreed a $168m (£89m) settlement deal in a shareholder lawsuit over the collapse of the energy firm.  leading plaintiff  the unive...   \n",
       "\n",
       "   Category  \\\n",
       "0  business   \n",
       "1  business   \n",
       "2  business   \n",
       "3      tech   \n",
       "4  business   \n",
       "\n",
       "                                                                                                                                                                                              preproc_text  \n",
       "0  worldcom ex boss launches defence lawyers defending former worldcom chief bernie ebbers battery fraud charges called company whistleblower first witness cynthia cooper worldcom ex head internal ac...  \n",
       "1  german business confidence slides german business confidence fell february knocking hopes speedy recovery europe largest economy munich based research institute ifo said confidence index fell 95 5...  \n",
       "2  bbc poll indicates economic gloom citizens majority nations surveyed bbc world service poll believe world economy worsening respondents also said national economy getting worse asked family financ...  \n",
       "3  lifestyle governs mobile choice faster better funkier hardware alone going help phone firms sell handsets research suggests instead phone firms keen get customers pushing technology sake consumers...  \n",
       "4  enron bosses 168m payout eighteen former enron directors agreed 168m 89m settlement deal shareholder lawsuit collapse energy firm leading plaintiff university california announced news adding 10 f...  "
      ]
     },
     "execution_count": 5,
     "metadata": {},
     "output_type": "execute_result"
    }
   ],
   "source": [
    "df['preproc_text'] = preprocess_text_col(df, \"Text\")\n",
    "df.head()"
   ]
  },
  {
   "cell_type": "code",
   "execution_count": 6,
   "metadata": {},
   "outputs": [
    {
     "data": {
      "image/png": "[encoded data removed]",
      "text/plain": [
       "<Figure size 500x300 with 1 Axes>"
      ]
     },
     "metadata": {},
     "output_type": "display_data"
    }
   ],
   "source": [
    "plt.subplots(figsize=(5, 3))\n",
    "sn.histplot(data = df,x = 'Category').set(title = 'Category Frequency');"
   ]
  },
  {
   "cell_type": "markdown",
   "metadata": {},
   "source": [
    "The following code is taken from previous assignment I submitted. It is used to assigned a clustering algorithms clusters to the human interpretable labels as well as create an accuracy score."
   ]
  },
  {
   "cell_type": "code",
   "execution_count": 7,
   "metadata": {},
   "outputs": [],
   "source": [
    "def predict_helper(w_matrix):\n",
    "    sortedW = np.argsort(w_matrix)\n",
    "    n_predictions, maxValue = sortedW.shape\n",
    "    predictions = [[sortedW[i][maxValue - 1]] for i in range(n_predictions)]\n",
    "    preds = np.empty(n_predictions, dtype = np.int64)\n",
    "    for i in range(n_predictions):\n",
    "        preds[i] = predictions[i][0]\n",
    "        \n",
    "    return preds"
   ]
  },
  {
   "cell_type": "code",
   "execution_count": 8,
   "metadata": {},
   "outputs": [],
   "source": [
    "def label_permute_compare(ytdf,col, yp,n=5):\n",
    "    \"\"\"\n",
    "    ytdf: labels dataframe object\n",
    "    yp: clustering label prediction output\n",
    "    Returns permuted label order and accuracy. \n",
    "    Example output: (3, 4, 1, 2, 0), 0.74 \n",
    "    \"\"\"\n",
    "    # Referenced \n",
    "    # https://stackoverflow.com/questions/11683785/\n",
    "    #         how-can-i-match-up-cluster-labels-to-my-ground-truth-labels-in-matlab\n",
    "    # to develop the following code\n",
    "    \n",
    "    labelorder = []\n",
    "    acc = 0\n",
    "    label_dict = {}\n",
    "    type(yp)\n",
    "    pred_cluster_labels = np.unique(yp)\n",
    "    \n",
    "    # map true label values to integers to we can then use them to compare to \n",
    "    # permuations of labels\n",
    "    labels = ytdf[col].unique() # get the label values\n",
    "    for i, label in enumerate(labels):\n",
    "        label_dict[label] = i\n",
    "    ytdf['pred']=ytdf[col].map(label_dict)\n",
    "    \n",
    "    # for each permuation of the labels, compare to new lable column to measure accuracy\n",
    "    from itertools import permutations   \n",
    "    # we need perumations of integer set with elements 0-4\n",
    "    perms = permutations(range(len(labels)))  \n",
    "    \n",
    "    for p in perms:\n",
    "        converted_labels = np.zeros(len(ytdf))\n",
    "        for i, label in enumerate(pred_cluster_labels):\n",
    "            converted_labels[yp == label] = p[i]\n",
    "        test_acc = np.sum(converted_labels == ytdf['pred']) / len(ytdf)\n",
    "        if test_acc > acc:\n",
    "            acc = test_acc\n",
    "            labelorder = p\n",
    "                  \n",
    "    return labels, labelorder, round(acc,4)"
   ]
  },
  {
   "cell_type": "code",
   "execution_count": 9,
   "metadata": {},
   "outputs": [],
   "source": [
    "def unsupervised_predict_on_training_data(model, df, cat):\n",
    "\n",
    "    preds_arr = predict(model,df)\n",
    "    labels, label_order, accuracy = label_permute_compare(df, cat, preds_arr )\n",
    "    cluster_map = {}\n",
    "    \n",
    "    for c,l in zip(label_order, labels):\n",
    "        cluster_map[c]=l\n",
    "        \n",
    "    print('accuracy=', accuracy)\n",
    "    print(cluster_map)\n",
    "    \n",
    "    preds = pd.DataFrame(df['ArticleId'])\n",
    "    preds['Category'] = pd.Series(preds_arr).map(cluster_map)\n",
    "\n",
    "    return preds, cluster_map"
   ]
  },
  {
   "cell_type": "code",
   "execution_count": 10,
   "metadata": {},
   "outputs": [],
   "source": [
    "def predict(model,df):\n",
    "        #create vectorizer\n",
    "    v_train = TfidfVectorizer(min_df = 2,max_df = 0.95, norm = 'l2').fit_transform(df['preproc_text'])\n",
    "\n",
    "    model.fit(v_train)\n",
    "\n",
    "    preds_arr = predict_helper(model.transform(v_train))\n",
    "    \n",
    "    return preds_arr"
   ]
  },
  {
   "cell_type": "markdown",
   "metadata": {},
   "source": [
    "## 2. Scikit-Learns Non-Negative Matrix Factoriztion\n",
    "\n",
    "NVM from scikit-learn is used to form clusters by a predicted topic. Then the cluster names are compared against the original categories see how accurate the clustering was."
   ]
  },
  {
   "cell_type": "code",
   "execution_count": 11,
   "metadata": {},
   "outputs": [
    {
     "name": "stdout",
     "output_type": "stream",
     "text": [
      "['business' 'entertainment' 'politics' 'sport' 'tech']\n",
      "accuracy= 0.9564\n",
      "{3: 'business', 2: 'tech', 1: 'politics', 4: 'sport', 0: 'entertainment'}\n"
     ]
    }
   ],
   "source": [
    "model = NMF(n_components=5, \n",
    "            init='nndsvda', \n",
    "            solver = 'mu',\n",
    "            beta_loss = 'kullback-leibler',\n",
    "            l1_ratio = 0.5,\n",
    "            random_state = 101)\n",
    "\n",
    "pred_cluster_labels = np.unique(df[\"Category\"])\n",
    "print(pred_cluster_labels)\n",
    "preds, cluster_map = unsupervised_predict_on_training_data(model, df, \"Category\")"
   ]
  },
  {
   "cell_type": "markdown",
   "metadata": {},
   "source": [
    "NVM resulted in an accuracy of 95.7%."
   ]
  },
  {
   "cell_type": "code",
   "execution_count": 12,
   "metadata": {},
   "outputs": [
    {
     "name": "stdout",
     "output_type": "stream",
     "text": [
      "   ArticleId Category\n",
      "0       1833    sport\n",
      "1        154    sport\n",
      "2       1101    sport\n",
      "3       1976     tech\n",
      "4        917    sport\n",
      "{3: 'business', 2: 'tech', 1: 'politics', 4: 'sport', 0: 'entertainment'}\n"
     ]
    }
   ],
   "source": [
    "print(preds.head())\n",
    "print(cluster_map)"
   ]
  },
  {
   "cell_type": "code",
   "execution_count": 19,
   "metadata": {},
   "outputs": [
    {
     "name": "stdout",
     "output_type": "stream",
     "text": [
      "Supervise Learning Accuracy: 0.9517426273458445\n"
     ]
    }
   ],
   "source": [
    "from sklearn.model_selection import train_test_split\n",
    "x_train, x_test, y_train, y_test = train_test_split(df['preproc_text'], df['Category'], test_size=0.25, random_state=0)\n",
    "\n",
    "model = Pipeline([('tfidf',TfidfVectorizer(min_df = 2,max_df = 0.95, norm = 'l2') ),\n",
    "                  ('rfc', RandomForestClassifier(n_estimators=100)),\n",
    "                ])\n",
    "\n",
    "model.fit(x_train, y_train)\n",
    "\n",
    "predict = model.predict(x_test)\n",
    "print(\"Supervise Learning Accuracy: \" + str(accuracy_score(predict, y_test)))\n",
    "\n",
    "\n"
   ]
  },
  {
   "cell_type": "markdown",
   "metadata": {},
   "source": [
    "Supervised learning using Random Forest was NVM whas an accuracy of 95.2% which is slightly worse than the using NVM which had an accuracy of 95.7%."
   ]
  }
 ],
 "metadata": {
  "kernelspec": {
   "display_name": "Python 3.9.13 ('base')",
   "language": "python",
   "name": "python3"
  },
  "language_info": {
   "codemirror_mode": {
    "name": "ipython",
    "version": 3
   },
   "file_extension": ".py",
   "mimetype": "text/x-python",
   "name": "python",
   "nbconvert_exporter": "python",
   "pygments_lexer": "ipython3",
   "version": "3.9.13"
  },
  "orig_nbformat": 4,
  "vscode": {
   "interpreter": {
    "hash": "198a41b93964971f9af2bc5930cc6229317b2d79376d11a0b385f0cdbf5221ff"
   }
  }
 },
 "nbformat": 4,
 "nbformat_minor": 2
}
